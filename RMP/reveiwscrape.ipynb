{
 "cells": [
  {
   "cell_type": "code",
   "execution_count": 23,
   "outputs": [],
   "source": [
    "from selenium.webdriver.common.by import By\n",
    "from selenium import webdriver"
   ],
   "metadata": {
    "collapsed": false,
    "ExecuteTime": {
     "start_time": "2023-05-19T08:31:52.077397Z",
     "end_time": "2023-05-19T08:31:52.090552Z"
    }
   }
  },
  {
   "cell_type": "code",
   "execution_count": 24,
   "outputs": [],
   "source": [
    "'''\n",
    "    THIS SCRIPT SCRAPES REVEIWS OFF THE PROF PAGE\n",
    "'''\n",
    "driver = webdriver.Firefox()\n",
    "\n",
    "prof_code = 13339\n",
    "url = f\"https://www.ratemyprofessors.com/professor/{prof_code}\"\n",
    "\n",
    "driver.get(url)\n",
    "\n",
    "# <ul id=ratingsList> contains all the reviews, but need to press the button first\n",
    "#button contains Load More Ratings\"\n",
    "\n",
    "# this is the button that closes the pop up\n",
    "buttons = driver.find_elements(By.TAG_NAME, \"button\")\n",
    "for button in buttons:\n",
    "    if button.text == \"Close\":\n",
    "        button.click()\n",
    "        break\n",
    "\n",
    "while True:\n",
    "    buttons = driver.find_elements(By.TAG_NAME, \"button\")\n",
    "    found_button = False  # Flag to track if a matching button was found\n",
    "\n",
    "    for button in buttons:\n",
    "        if button.text == \"Load More Ratings\":\n",
    "            # scroll so button is at center of screen\n",
    "            driver.execute_script(\"arguments[0].scrollIntoView({behavior: 'auto', block: 'center', inline: 'center'});\",\n",
    "                                  button)\n",
    "            button.click()\n",
    "            found_button = True  # Set the flag to indicate a matching button was found\n",
    "\n",
    "    if not found_button:\n",
    "        break  # Break out of the while loop if no matching button was found\n",
    "\n",
    "# so now this works, the page loads, all pop ups closed, and all reviews are loaded\n",
    "# now to scrape the reviews"
   ],
   "metadata": {
    "collapsed": false,
    "ExecuteTime": {
     "start_time": "2023-05-19T08:31:53.785219Z",
     "end_time": "2023-05-19T08:32:07.092551Z"
    }
   }
  },
  {
   "cell_type": "code",
   "execution_count": 25,
   "outputs": [
    {
     "name": "stdout",
     "output_type": "stream",
     "text": [
      "QUALITY\n",
      "1.0\n",
      "DIFFICULTY\n",
      "5.0\n",
      "LSTD3133\n",
      "😖\n",
      "AWFUL\n",
      "May 3rd, 2023\n",
      "For Credit: Yes\n",
      "Attendance: Not Mandatory\n",
      "Grade: C\n",
      "Textbook: Yes\n",
      "Trust me when I say this, he is literally the worst professor I have ever met. Gives no feedback and just doesn't seem to care at all or wants to see you succeed. I would do everything in your power to NOT take his class!\n",
      "TOUGH GRADER\n",
      "PARTICIPATION MATTERS\n",
      "LOTS OF HOMEWORK\n",
      "0\n",
      "0\n",
      "27\n"
     ]
    }
   ],
   "source": [
    "r = driver.find_element(By.ID, \"ratingsList\")\n",
    "c= (r.find_elements(By.CSS_SELECTOR, \"li\"))\n",
    "\n",
    "for t in c:\n",
    "    if t.text == \"\":\n",
    "        c.remove(t)\n",
    "\n",
    "print(c[0].text)\n",
    "print(len(c))\n",
    "# comments will be dicts\n",
    "comments = []\n"
   ],
   "metadata": {
    "collapsed": false,
    "ExecuteTime": {
     "start_time": "2023-05-19T08:32:17.390085Z",
     "end_time": "2023-05-19T08:32:18.470479Z"
    }
   }
  },
  {
   "cell_type": "code",
   "execution_count": 26,
   "outputs": [],
   "source": [
    "# for each entry in c, split the text by '/n' and then add it to the dict\n",
    "for entry in c:\n",
    "    # split the text by '/n'\n",
    "    text = entry.text.split('\\n')\n",
    "    # create a dict\n",
    "    comment = {}\n",
    "    # add the text to the dict\n",
    "    comment['class'] = text[4]\n",
    "    comment['date'] = text[7]\n",
    "    comment['comment'] = text[8]\n",
    "    comment['quality'] = text[1]\n",
    "    comment['difficulty'] = text[3]\n",
    "    comment['would_take_again'] = text[5]\n",
    "    comment['grade'] = text[9]\n",
    "    comment['tags'] = text[10]\n",
    "    # add the dict to the list\n",
    "    comments.append(comment)\n",
    "    # probaly clean this up a bit\n"
   ],
   "metadata": {
    "collapsed": false,
    "ExecuteTime": {
     "start_time": "2023-05-19T08:32:21.354637Z",
     "end_time": "2023-05-19T08:32:22.636658Z"
    }
   }
  },
  {
   "cell_type": "code",
   "execution_count": 27,
   "outputs": [],
   "source": [
    "# add comments to techer"
   ],
   "metadata": {
    "collapsed": false,
    "ExecuteTime": {
     "start_time": "2023-05-19T08:33:35.906774Z",
     "end_time": "2023-05-19T08:33:35.976858Z"
    }
   }
  },
  {
   "cell_type": "code",
   "execution_count": null,
   "outputs": [],
   "source": [],
   "metadata": {
    "collapsed": false
   }
  }
 ],
 "metadata": {
  "kernelspec": {
   "display_name": "Python 3",
   "language": "python",
   "name": "python3"
  },
  "language_info": {
   "codemirror_mode": {
    "name": "ipython",
    "version": 2
   },
   "file_extension": ".py",
   "mimetype": "text/x-python",
   "name": "python",
   "nbconvert_exporter": "python",
   "pygments_lexer": "ipython2",
   "version": "2.7.6"
  }
 },
 "nbformat": 4,
 "nbformat_minor": 0
}
