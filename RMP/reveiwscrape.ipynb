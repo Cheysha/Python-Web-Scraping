{
 "cells": [
  {
   "cell_type": "code",
   "execution_count": 1,
   "outputs": [],
   "source": [
    "from selenium.webdriver.common.by import By\n",
    "from selenium import webdriver"
   ],
   "metadata": {
    "collapsed": false,
    "ExecuteTime": {
     "start_time": "2023-05-18T14:10:49.112949Z",
     "end_time": "2023-05-18T14:10:49.225087Z"
    }
   }
  },
  {
   "cell_type": "code",
   "execution_count": null,
   "outputs": [
    {
     "ename": "KeyboardInterrupt",
     "evalue": "",
     "output_type": "error",
     "traceback": [
      "\u001B[1;31m---------------------------------------------------------------------------\u001B[0m",
      "\u001B[1;31mKeyboardInterrupt\u001B[0m                         Traceback (most recent call last)",
      "Cell \u001B[1;32mIn[8], line 29\u001B[0m\n\u001B[0;32m     26\u001B[0m \u001B[38;5;28;01mfor\u001B[39;00m button \u001B[38;5;129;01min\u001B[39;00m buttons:\n\u001B[0;32m     27\u001B[0m     \u001B[38;5;28;01mif\u001B[39;00m button\u001B[38;5;241m.\u001B[39mtext \u001B[38;5;241m==\u001B[39m \u001B[38;5;124m\"\u001B[39m\u001B[38;5;124mLoad More Ratings\u001B[39m\u001B[38;5;124m\"\u001B[39m:\n\u001B[0;32m     28\u001B[0m         \u001B[38;5;66;03m# scroll so button is at center of screen\u001B[39;00m\n\u001B[1;32m---> 29\u001B[0m         \u001B[43mdriver\u001B[49m\u001B[38;5;241m.\u001B[39mexecute_script(\u001B[38;5;124m\"\u001B[39m\u001B[38;5;124marguments[0].scrollIntoView(\u001B[39m\u001B[38;5;124m{\u001B[39m\u001B[38;5;124mbehavior: \u001B[39m\u001B[38;5;124m'\u001B[39m\u001B[38;5;124mauto\u001B[39m\u001B[38;5;124m'\u001B[39m\u001B[38;5;124m, block: \u001B[39m\u001B[38;5;124m'\u001B[39m\u001B[38;5;124mcenter\u001B[39m\u001B[38;5;124m'\u001B[39m\u001B[38;5;124m, inline: \u001B[39m\u001B[38;5;124m'\u001B[39m\u001B[38;5;124mcenter\u001B[39m\u001B[38;5;124m'\u001B[39m\u001B[38;5;124m});\u001B[39m\u001B[38;5;124m\"\u001B[39m,\n\u001B[0;32m     30\u001B[0m                               button)\n\u001B[0;32m     31\u001B[0m         button\u001B[38;5;241m.\u001B[39mclick()\n\u001B[0;32m     32\u001B[0m         found_button \u001B[38;5;241m=\u001B[39m \u001B[38;5;28;01mTrue\u001B[39;00m  \u001B[38;5;66;03m# Set the flag to indicate a matching button was found\u001B[39;00m\n",
      "Cell \u001B[1;32mIn[8], line 29\u001B[0m\n\u001B[0;32m     26\u001B[0m \u001B[38;5;28;01mfor\u001B[39;00m button \u001B[38;5;129;01min\u001B[39;00m buttons:\n\u001B[0;32m     27\u001B[0m     \u001B[38;5;28;01mif\u001B[39;00m button\u001B[38;5;241m.\u001B[39mtext \u001B[38;5;241m==\u001B[39m \u001B[38;5;124m\"\u001B[39m\u001B[38;5;124mLoad More Ratings\u001B[39m\u001B[38;5;124m\"\u001B[39m:\n\u001B[0;32m     28\u001B[0m         \u001B[38;5;66;03m# scroll so button is at center of screen\u001B[39;00m\n\u001B[1;32m---> 29\u001B[0m         \u001B[43mdriver\u001B[49m\u001B[38;5;241m.\u001B[39mexecute_script(\u001B[38;5;124m\"\u001B[39m\u001B[38;5;124marguments[0].scrollIntoView(\u001B[39m\u001B[38;5;124m{\u001B[39m\u001B[38;5;124mbehavior: \u001B[39m\u001B[38;5;124m'\u001B[39m\u001B[38;5;124mauto\u001B[39m\u001B[38;5;124m'\u001B[39m\u001B[38;5;124m, block: \u001B[39m\u001B[38;5;124m'\u001B[39m\u001B[38;5;124mcenter\u001B[39m\u001B[38;5;124m'\u001B[39m\u001B[38;5;124m, inline: \u001B[39m\u001B[38;5;124m'\u001B[39m\u001B[38;5;124mcenter\u001B[39m\u001B[38;5;124m'\u001B[39m\u001B[38;5;124m});\u001B[39m\u001B[38;5;124m\"\u001B[39m,\n\u001B[0;32m     30\u001B[0m                               button)\n\u001B[0;32m     31\u001B[0m         button\u001B[38;5;241m.\u001B[39mclick()\n\u001B[0;32m     32\u001B[0m         found_button \u001B[38;5;241m=\u001B[39m \u001B[38;5;28;01mTrue\u001B[39;00m  \u001B[38;5;66;03m# Set the flag to indicate a matching button was found\u001B[39;00m\n",
      "File \u001B[1;32m_pydevd_bundle\\pydevd_cython_win32_310_64.pyx:1179\u001B[0m, in \u001B[0;36m_pydevd_bundle.pydevd_cython_win32_310_64.SafeCallWrapper.__call__\u001B[1;34m()\u001B[0m\n",
      "File \u001B[1;32m_pydevd_bundle\\pydevd_cython_win32_310_64.pyx:620\u001B[0m, in \u001B[0;36m_pydevd_bundle.pydevd_cython_win32_310_64.PyDBFrame.trace_dispatch\u001B[1;34m()\u001B[0m\n",
      "File \u001B[1;32m_pydevd_bundle\\pydevd_cython_win32_310_64.pyx:929\u001B[0m, in \u001B[0;36m_pydevd_bundle.pydevd_cython_win32_310_64.PyDBFrame.trace_dispatch\u001B[1;34m()\u001B[0m\n",
      "File \u001B[1;32m_pydevd_bundle\\pydevd_cython_win32_310_64.pyx:920\u001B[0m, in \u001B[0;36m_pydevd_bundle.pydevd_cython_win32_310_64.PyDBFrame.trace_dispatch\u001B[1;34m()\u001B[0m\n",
      "File \u001B[1;32m_pydevd_bundle\\pydevd_cython_win32_310_64.pyx:317\u001B[0m, in \u001B[0;36m_pydevd_bundle.pydevd_cython_win32_310_64.PyDBFrame.do_wait_suspend\u001B[1;34m()\u001B[0m\n",
      "File \u001B[1;32mC:\\Program Files\\JetBrains\\PyCharm 2022.3.1\\plugins\\python\\helpers\\pydev\\pydevd.py:1160\u001B[0m, in \u001B[0;36mPyDB.do_wait_suspend\u001B[1;34m(self, thread, frame, event, arg, send_suspend_message, is_unhandled_exception)\u001B[0m\n\u001B[0;32m   1157\u001B[0m         from_this_thread\u001B[38;5;241m.\u001B[39mappend(frame_id)\n\u001B[0;32m   1159\u001B[0m \u001B[38;5;28;01mwith\u001B[39;00m \u001B[38;5;28mself\u001B[39m\u001B[38;5;241m.\u001B[39m_threads_suspended_single_notification\u001B[38;5;241m.\u001B[39mnotify_thread_suspended(thread_id, stop_reason):\n\u001B[1;32m-> 1160\u001B[0m     \u001B[38;5;28;43mself\u001B[39;49m\u001B[38;5;241;43m.\u001B[39;49m\u001B[43m_do_wait_suspend\u001B[49m\u001B[43m(\u001B[49m\u001B[43mthread\u001B[49m\u001B[43m,\u001B[49m\u001B[43m \u001B[49m\u001B[43mframe\u001B[49m\u001B[43m,\u001B[49m\u001B[43m \u001B[49m\u001B[43mevent\u001B[49m\u001B[43m,\u001B[49m\u001B[43m \u001B[49m\u001B[43marg\u001B[49m\u001B[43m,\u001B[49m\u001B[43m \u001B[49m\u001B[43msuspend_type\u001B[49m\u001B[43m,\u001B[49m\u001B[43m \u001B[49m\u001B[43mfrom_this_thread\u001B[49m\u001B[43m)\u001B[49m\n",
      "File \u001B[1;32mC:\\Program Files\\JetBrains\\PyCharm 2022.3.1\\plugins\\python\\helpers\\pydev\\pydevd.py:1175\u001B[0m, in \u001B[0;36mPyDB._do_wait_suspend\u001B[1;34m(self, thread, frame, event, arg, suspend_type, from_this_thread)\u001B[0m\n\u001B[0;32m   1172\u001B[0m             \u001B[38;5;28mself\u001B[39m\u001B[38;5;241m.\u001B[39m_call_mpl_hook()\n\u001B[0;32m   1174\u001B[0m         \u001B[38;5;28mself\u001B[39m\u001B[38;5;241m.\u001B[39mprocess_internal_commands()\n\u001B[1;32m-> 1175\u001B[0m         \u001B[43mtime\u001B[49m\u001B[38;5;241;43m.\u001B[39;49m\u001B[43msleep\u001B[49m\u001B[43m(\u001B[49m\u001B[38;5;241;43m0.01\u001B[39;49m\u001B[43m)\u001B[49m\n\u001B[0;32m   1177\u001B[0m \u001B[38;5;28mself\u001B[39m\u001B[38;5;241m.\u001B[39mcancel_async_evaluation(get_current_thread_id(thread), \u001B[38;5;28mstr\u001B[39m(\u001B[38;5;28mid\u001B[39m(frame)))\n\u001B[0;32m   1179\u001B[0m \u001B[38;5;66;03m# process any stepping instructions\u001B[39;00m\n",
      "\u001B[1;31mKeyboardInterrupt\u001B[0m: "
     ]
    }
   ],
   "source": [
    "'''\n",
    "    THIS SCRIPT SCRAPES REVEIWS OFF THE PROF PAGE\n",
    "'''\n",
    "driver = webdriver.Firefox()\n",
    "\n",
    "prof_code = 177833\n",
    "url = f\"https://www.ratemyprofessors.com/professor/{prof_code}\"\n",
    "\n",
    "driver.get(url)\n",
    "\n",
    "# <ul id=ratingsList> contains all the reviews, but need to press the button first\n",
    "\n",
    "#button contains Load More Ratings\"\n",
    "\n",
    "# this is the button that closes the pop up\n",
    "buttons = driver.find_elements(By.TAG_NAME, \"button\")\n",
    "for button in buttons:\n",
    "    if button.text == \"Close\":\n",
    "        button.click()\n",
    "        break\n",
    "\n",
    "while True:\n",
    "    buttons = driver.find_elements(By.TAG_NAME, \"button\")\n",
    "    found_button = False  # Flag to track if a matching button was found\n",
    "\n",
    "    for button in buttons:\n",
    "        if button.text == \"Load More Ratings\":\n",
    "            # scroll so button is at center of screen\n",
    "            driver.execute_script(\"arguments[0].scrollIntoView({behavior: 'auto', block: 'center', inline: 'center'});\",\n",
    "                                  button)\n",
    "            button.click()\n",
    "            found_button = True  # Set the flag to indicate a matching button was found\n",
    "\n",
    "    if not found_button:\n",
    "        break  # Break out of the while loop if no matching button was found\n",
    "\n"
   ],
   "metadata": {
    "collapsed": false,
    "ExecuteTime": {
     "start_time": "2023-05-18T14:29:11.716179Z",
     "end_time": "2023-05-18T14:30:55.748190Z"
    }
   }
  },
  {
   "cell_type": "code",
   "execution_count": null,
   "outputs": [],
   "source": [],
   "metadata": {
    "collapsed": false
   }
  }
 ],
 "metadata": {
  "kernelspec": {
   "display_name": "Python 3",
   "language": "python",
   "name": "python3"
  },
  "language_info": {
   "codemirror_mode": {
    "name": "ipython",
    "version": 2
   },
   "file_extension": ".py",
   "mimetype": "text/x-python",
   "name": "python",
   "nbconvert_exporter": "python",
   "pygments_lexer": "ipython2",
   "version": "2.7.6"
  }
 },
 "nbformat": 4,
 "nbformat_minor": 0
}
