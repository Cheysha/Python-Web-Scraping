{
 "cells": [
  {
   "cell_type": "code",
   "execution_count": 1,
   "outputs": [],
   "source": [
    "from selenium.webdriver.common.by import By\n",
    "from selenium import webdriver"
   ],
   "metadata": {
    "collapsed": false,
    "ExecuteTime": {
     "start_time": "2023-05-18T14:10:49.112949Z",
     "end_time": "2023-05-18T14:10:49.225087Z"
    }
   }
  },
  {
   "cell_type": "code",
   "execution_count": 10,
   "outputs": [],
   "source": [
    "'''\n",
    "    THIS SCRIPT SCRAPES REVEIWS OFF THE PROF PAGE\n",
    "'''\n",
    "driver = webdriver.Firefox()\n",
    "\n",
    "prof_code = 177833\n",
    "url = f\"https://www.ratemyprofessors.com/professor/{prof_code}\"\n",
    "\n",
    "driver.get(url)\n",
    "\n",
    "# <ul id=ratingsList> contains all the reviews, but need to press the button first\n",
    "#button contains Load More Ratings\"\n",
    "\n",
    "# this is the button that closes the pop up\n",
    "buttons = driver.find_elements(By.TAG_NAME, \"button\")\n",
    "for button in buttons:\n",
    "    if button.text == \"Close\":\n",
    "        button.click()\n",
    "        break\n",
    "\n",
    "while True:\n",
    "    buttons = driver.find_elements(By.TAG_NAME, \"button\")\n",
    "    found_button = False  # Flag to track if a matching button was found\n",
    "\n",
    "    for button in buttons:\n",
    "        if button.text == \"Load More Ratings\":\n",
    "            # scroll so button is at center of screen\n",
    "            driver.execute_script(\"arguments[0].scrollIntoView({behavior: 'auto', block: 'center', inline: 'center'});\",\n",
    "                                  button)\n",
    "            button.click()\n",
    "            found_button = True  # Set the flag to indicate a matching button was found\n",
    "\n",
    "    if not found_button:\n",
    "        break  # Break out of the while loop if no matching button was found\n",
    "\n",
    "# so now this works, the page loads, all pop ups closed, and all reviews are loaded"
   ],
   "metadata": {
    "collapsed": false,
    "ExecuteTime": {
     "start_time": "2023-05-18T14:33:44.319142Z",
     "end_time": "2023-05-18T14:34:00.714950Z"
    }
   }
  },
  {
   "cell_type": "code",
   "execution_count": null,
   "outputs": [],
   "source": [],
   "metadata": {
    "collapsed": false
   }
  }
 ],
 "metadata": {
  "kernelspec": {
   "display_name": "Python 3",
   "language": "python",
   "name": "python3"
  },
  "language_info": {
   "codemirror_mode": {
    "name": "ipython",
    "version": 2
   },
   "file_extension": ".py",
   "mimetype": "text/x-python",
   "name": "python",
   "nbconvert_exporter": "python",
   "pygments_lexer": "ipython2",
   "version": "2.7.6"
  }
 },
 "nbformat": 4,
 "nbformat_minor": 0
}
