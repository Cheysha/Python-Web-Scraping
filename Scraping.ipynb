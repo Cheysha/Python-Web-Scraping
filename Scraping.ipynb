{
 "cells": [
  {
   "cell_type": "markdown",
   "source": [
    " server will return last valid page if you go too hig or low, check if current page is also the last page, break if true\n",
    "\n",
    " right now this just grabs every <p> can be narrowed down so it only grabs the reviews, also needs to be a juypter notebook"
   ],
   "metadata": {
    "collapsed": false
   }
  },
  {
   "cell_type": "code",
   "execution_count": 2,
   "outputs": [],
   "source": [
    "import requests\n",
    "from bs4 import BeautifulSoup"
   ],
   "metadata": {
    "collapsed": false,
    "ExecuteTime": {
     "start_time": "2023-05-16T19:59:46.186084Z",
     "end_time": "2023-05-16T19:59:46.220901Z"
    }
   }
  },
  {
   "cell_type": "raw",
   "source": [
    "setup the page archive and the page counter"
   ],
   "metadata": {
    "collapsed": false
   }
  },
  {
   "cell_type": "code",
   "execution_count": 33,
   "outputs": [],
   "source": [
    "subject = \"walgreens\"\n",
    "pages = []\n",
    "number_of_pages = 1\n",
    "current_page = 1"
   ],
   "metadata": {
    "collapsed": false,
    "ExecuteTime": {
     "start_time": "2023-05-17T08:26:19.241416Z",
     "end_time": "2023-05-17T08:26:19.265580Z"
    }
   }
  },
  {
   "cell_type": "raw",
   "source": [
    "run until we get a page that is not valid"
   ],
   "metadata": {
    "collapsed": false
   }
  },
  {
   "cell_type": "code",
   "execution_count": 34,
   "outputs": [],
   "source": [
    "while True:\n",
    "    # get page\n",
    "    page = requests.get(f\"https://www.consumeraffairs.com/rx/{subject}.html?page={current_page}\", headers={'User-Agent': 'Mozilla/5.0'})\n",
    "\n",
    "    # get the returned url\n",
    "    returned_url = page.url\n",
    "\n",
    "    # escape condish\n",
    "    if (returned_url == f\"https://www.consumeraffairs.com/rx/aarp.html?page={current_page-1}\"):\n",
    "        break\n",
    "    if (current_page == 10):\n",
    "        break\n",
    "\n",
    "    # put page in our page archive\n",
    "    pages.append(page)\n",
    "    current_page += 1\n",
    "    number_of_pages += 1"
   ],
   "metadata": {
    "collapsed": false,
    "ExecuteTime": {
     "start_time": "2023-05-17T08:26:22.029322Z",
     "end_time": "2023-05-17T08:26:26.953880Z"
    }
   }
  },
  {
   "cell_type": "raw",
   "source": [
    "Lets write these to a file so we can use them later, side note: with takes care of opening and closing in python"
   ],
   "metadata": {
    "collapsed": false
   }
  },
  {
   "cell_type": "code",
   "execution_count": 35,
   "outputs": [],
   "source": [
    "# dump eaach page to a file in the Archive folder, if the folder does not exist it will be created\n",
    "for i in range(len(pages)):\n",
    "    with open(f\"Archive/{subject}_{i}.html\", \"w\",encoding=\"utf-8\") as f:\n",
    "        f.write(pages[i].text)\n"
   ],
   "metadata": {
    "collapsed": false,
    "ExecuteTime": {
     "start_time": "2023-05-17T08:26:29.613970Z",
     "end_time": "2023-05-17T08:26:29.645254Z"
    }
   }
  },
  {
   "cell_type": "raw",
   "source": [
    "now we have all the pages, we can start getting the reviews"
   ],
   "metadata": {
    "collapsed": false
   }
  },
  {
   "cell_type": "code",
   "execution_count": 40,
   "outputs": [],
   "source": [
    "reviews = []\n",
    "for page in pages:\n",
    "    soup = BeautifulSoup(page.content, 'html.parser')\n",
    "    # find all divs with class=rw-bd, all p elements in that div are reviews\n",
    "    r = soup.find_all('div', class_='rvw-bd')\n",
    "    for i in r:\n",
    "        reviews.append(i.find_all('p'))\n",
    "        # write to file\n",
    "        with open(f\"Reveiws/{subject}_reviews.txt\", \"a\",encoding=\"utf-8\") as f:\n",
    "            f.write(str(i.find_all('p')))\n",
    "            f.write(\"\\n\")\n",
    "\n",
    "\n",
    "\n",
    "    breakpoint()\n",
    "\n",
    "\n",
    "\n",
    "\n",
    "\n",
    "    #TODO find a way to get the reviews only"
   ],
   "metadata": {
    "collapsed": false,
    "ExecuteTime": {
     "start_time": "2023-05-17T08:45:24.065247Z",
     "end_time": "2023-05-17T08:45:49.210128Z"
    }
   }
  },
  {
   "cell_type": "code",
   "execution_count": null,
   "outputs": [],
   "source": [],
   "metadata": {
    "collapsed": false
   }
  }
 ],
 "metadata": {
  "kernelspec": {
   "display_name": "Python 3",
   "language": "python",
   "name": "python3"
  },
  "language_info": {
   "codemirror_mode": {
    "name": "ipython",
    "version": 2
   },
   "file_extension": ".py",
   "mimetype": "text/x-python",
   "name": "python",
   "nbconvert_exporter": "python",
   "pygments_lexer": "ipython2",
   "version": "2.7.6"
  }
 },
 "nbformat": 4,
 "nbformat_minor": 0
}
